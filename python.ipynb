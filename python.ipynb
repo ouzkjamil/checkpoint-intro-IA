{
 "cells": [
  {
   "cell_type": "code",
   "execution_count": 33,
   "id": "4b762ccc",
   "metadata": {},
   "outputs": [
    {
     "name": "stdout",
     "output_type": "stream",
     "text": [
      "[2002, 2009, 2016, 2023, 2037, 2044, 2051, 2058, 2072, 2079, 2086, 2093, 2107, 2114, 2121, 2128, 2142, 2149, 2156, 2163, 2177, 2184, 2191, 2198, 2212, 2219, 2226, 2233, 2247, 2254, 2261, 2268, 2282, 2289, 2296, 2303, 2317, 2324, 2331, 2338, 2352, 2359, 2366, 2373, 2387, 2394, 2401, 2408, 2422, 2429, 2436, 2443, 2457, 2464, 2471, 2478, 2492, 2499, 2506, 2513, 2527, 2534, 2541, 2548, 2562, 2569, 2576, 2583, 2597, 2604, 2611, 2618, 2632, 2639, 2646, 2653, 2667, 2674, 2681, 2688, 2702, 2709, 2716, 2723, 2737, 2744, 2751, 2758, 2772, 2779, 2786, 2793, 2807, 2814, 2821, 2828, 2842, 2849, 2856, 2863, 2877, 2884, 2891, 2898, 2912, 2919, 2926, 2933, 2947, 2954, 2961, 2968, 2982, 2989, 2996, 3003, 3017, 3024, 3031, 3038, 3052, 3059, 3066, 3073, 3087, 3094, 3101, 3108, 3122, 3129, 3136, 3143, 3157, 3164, 3171, 3178, 3192, 3199]\n"
     ]
    }
   ],
   "source": [
    "maliste=[] #empty list\n",
    "for x in range(2000,3201): #foreqch in range 2000 3201\n",
    "    if x %7 == 0 and x %5 != 0: #condition\n",
    "        maliste.append(x) #add x in list\n",
    "        \n",
    "print(maliste) #list view\n",
    "    "
   ]
  },
  {
   "cell_type": "code",
   "execution_count": 80,
   "id": "a265bd0a",
   "metadata": {},
   "outputs": [
    {
     "data": {
      "text/plain": [
       "120"
      ]
     },
     "execution_count": 80,
     "metadata": {},
     "output_type": "execute_result"
    }
   ],
   "source": [
    "def fact(n):#definition de la fonction\n",
    "    if  n==0:#la condition\n",
    "        return 1 #retour\n",
    "    else:#autre que la condition\n",
    "        return n*fact(n-1) #retour\n",
    "        \n",
    "    \n",
    "fact(5) #valeur\n",
    "    \n",
    "    "
   ]
  },
  {
   "cell_type": "code",
   "execution_count": 89,
   "id": "ae0b2902",
   "metadata": {},
   "outputs": [
    {
     "name": "stdout",
     "output_type": "stream",
     "text": [
      "{1: 1, 2: 4, 3: 9, 4: 16, 5: 25, 6: 36, 7: 49, 8: 64}\n"
     ]
    }
   ],
   "source": [
    "madict={} #creation d'un dictionnaire vide\n",
    "def mydict(i): #definition de notre fonction\n",
    "    for x in range(1,i+1):#foreqch in range\n",
    "        madict[x]=x*x #calcule\n",
    "    print(madict)#imprimer\n",
    "    \n",
    "mydict(8)#dict view\n",
    "    \n",
    "\n",
    "    \n",
    "    "
   ]
  },
  {
   "cell_type": "code",
   "execution_count": 130,
   "id": "b89d957a",
   "metadata": {},
   "outputs": [
    {
     "name": "stdout",
     "output_type": "stream",
     "text": [
      "moutn\n"
     ]
    }
   ],
   "source": [
    "def missing_char(m,i):\n",
    "    if i in range(len(m)):\n",
    "        new = \"\"\n",
    "        for j in range(len(m)): \n",
    "            if j != i:\n",
    "                new += m[j]\n",
    "        print(new)\n",
    "    else:\n",
    "        print(\"error\")\n",
    "\n",
    "missing_char(\"mouton\", 4)\n",
    "    \n",
    "    "
   ]
  },
  {
   "cell_type": "code",
   "execution_count": 169,
   "id": "6d8873d4",
   "metadata": {},
   "outputs": [
    {
     "name": "stdout",
     "output_type": "stream",
     "text": [
      "[[0, 1], [2, 3], [4, 5]]\n"
     ]
    }
   ],
   "source": [
    "import numpy as np #importation de numpy\n",
    "tableau = np.array(((0,1),(2,3),(4,5)))#creation du tableau numpy\n",
    "l=tableau.tolist() #tranformation en liste\n",
    "print(l) #list view"
   ]
  },
  {
   "cell_type": "code",
   "execution_count": 179,
   "id": "90b9413c",
   "metadata": {},
   "outputs": [
    {
     "data": {
      "text/plain": [
       "array([[ 1., -1.],\n",
       "       [-1.,  1.]])"
      ]
     },
     "execution_count": 179,
     "metadata": {},
     "output_type": "execute_result"
    }
   ],
   "source": [
    "x=np.array((0,1,2)) #creation d'un ndarray dit x\n",
    "y=np.array((2,1,0))#creation d'un ndarray dit y\n",
    "np.cov(x,y) #calcule de la covariance"
   ]
  },
  {
   "cell_type": "code",
   "execution_count": 222,
   "id": "640ac9d0",
   "metadata": {},
   "outputs": [
    {
     "data": {
      "text/plain": [
       "80.0"
      ]
     },
     "execution_count": 222,
     "metadata": {},
     "output_type": "execute_result"
    }
   ],
   "source": [
    "C=50 #variabke C=\n",
    "H=30 #varible D\n",
    "Q= [\"(2 * C * D)/H\"] #formule\n",
    "def race(D): #definitiob de la formule\n",
    "    return (2 * C * D)/H #execution de la formule\n",
    "race (24) #element d'entree dans notre fonction de calcule"
   ]
  },
  {
   "cell_type": "code",
   "execution_count": null,
   "id": "12fcf78f",
   "metadata": {},
   "outputs": [],
   "source": []
  }
 ],
 "metadata": {
  "kernelspec": {
   "display_name": "Python 3 (ipykernel)",
   "language": "python",
   "name": "python3"
  },
  "language_info": {
   "codemirror_mode": {
    "name": "ipython",
    "version": 3
   },
   "file_extension": ".py",
   "mimetype": "text/x-python",
   "name": "python",
   "nbconvert_exporter": "python",
   "pygments_lexer": "ipython3",
   "version": "3.9.7"
  }
 },
 "nbformat": 4,
 "nbformat_minor": 5
}
